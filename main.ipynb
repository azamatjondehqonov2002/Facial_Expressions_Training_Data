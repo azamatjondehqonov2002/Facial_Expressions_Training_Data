{
 "cells": [
  {
   "cell_type": "code",
   "execution_count": 4,
   "id": "8d4b01a1-1582-4bbf-938b-60c31c4ae7a0",
   "metadata": {
    "tags": []
   },
   "outputs": [],
   "source": [
    "import cv2\n",
    "import numpy as np\n",
    "import matplotlib.pyplot as plt\n",
    "import os\n",
    "import glob"
   ]
  },
  {
   "cell_type": "code",
   "execution_count": 5,
   "id": "8ff87857-01f8-4bb4-9aa7-1ae7078c069f",
   "metadata": {
    "tags": []
   },
   "outputs": [],
   "source": [
    "data_dir = \"Facial_Expressions_Training_Data/\"\n",
    "t_data_dir = \"Facial_Expressions_Training_Data/\""
   ]
  },
  {
   "cell_type": "code",
   "execution_count": null,
   "id": "af347b42-67fb-41f2-957d-a7e4da42b70c",
   "metadata": {},
   "outputs": [],
   "source": []
  }
 ],
 "metadata": {
  "kernelspec": {
   "display_name": "Python 3 (ipykernel)",
   "language": "python",
   "name": "python3"
  },
  "language_info": {
   "codemirror_mode": {
    "name": "ipython",
    "version": 3
   },
   "file_extension": ".py",
   "mimetype": "text/x-python",
   "name": "python",
   "nbconvert_exporter": "python",
   "pygments_lexer": "ipython3",
   "version": "3.8.16"
  },
  "widgets": {
   "application/vnd.jupyter.widget-state+json": {
    "state": {},
    "version_major": 2,
    "version_minor": 0
   }
  }
 },
 "nbformat": 4,
 "nbformat_minor": 5
}
