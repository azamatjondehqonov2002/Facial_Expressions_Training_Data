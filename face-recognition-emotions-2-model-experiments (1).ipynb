{
 "cells": [
  {
   "cell_type": "code",
   "execution_count": null,
   "metadata": {
    "execution": {
     "iopub.execute_input": "2023-04-03T10:22:56.937035Z",
     "iopub.status.busy": "2023-04-03T10:22:56.936565Z",
     "iopub.status.idle": "2023-04-03T10:22:57.230750Z",
     "shell.execute_reply": "2023-04-03T10:22:57.229844Z",
     "shell.execute_reply.started": "2023-04-03T10:22:56.936934Z"
    }
   },
   "outputs": [],
   "source": [
    "# let's see what is in labels file\n",
    "\n",
    "import pandas as pd\n",
    "from cv2 import cv2\n",
    "import matplotlib.pyplot as plt  # plot\n",
    "import os\n",
    "from os.path import join\n",
    "\n",
    "path = ('/kaggle/input/affectnet-training-data/')\n",
    "file = (path + 'labels.csv')\n",
    "df = pd.read_csv(file)\n",
    "df.head()"
   ]
  },
  {
   "cell_type": "code",
   "execution_count": null,
   "metadata": {
    "execution": {
     "iopub.execute_input": "2023-04-03T10:40:57.614706Z",
     "iopub.status.busy": "2023-04-03T10:40:57.613987Z",
     "iopub.status.idle": "2023-04-03T10:40:57.629245Z",
     "shell.execute_reply": "2023-04-03T10:40:57.628336Z",
     "shell.execute_reply.started": "2023-04-03T10:40:57.614666Z"
    }
   },
   "outputs": [],
   "source": [
    "df.tail()"
   ]
  },
  {
   "cell_type": "code",
   "execution_count": null,
   "metadata": {
    "execution": {
     "iopub.execute_input": "2023-04-03T10:41:07.055597Z",
     "iopub.status.busy": "2023-04-03T10:41:07.055229Z",
     "iopub.status.idle": "2023-04-03T10:41:07.076706Z",
     "shell.execute_reply": "2023-04-03T10:41:07.075866Z",
     "shell.execute_reply.started": "2023-04-03T10:41:07.055567Z"
    }
   },
   "outputs": [],
   "source": [
    "df.describe()"
   ]
  },
  {
   "cell_type": "code",
   "execution_count": null,
   "metadata": {
    "execution": {
     "iopub.execute_input": "2023-04-03T10:41:14.841088Z",
     "iopub.status.busy": "2023-04-03T10:41:14.840735Z",
     "iopub.status.idle": "2023-04-03T10:41:14.855542Z",
     "shell.execute_reply": "2023-04-03T10:41:14.854535Z",
     "shell.execute_reply.started": "2023-04-03T10:41:14.841059Z"
    }
   },
   "outputs": [],
   "source": [
    "df.hist"
   ]
  },
  {
   "cell_type": "code",
   "execution_count": null,
   "metadata": {
    "execution": {
     "iopub.execute_input": "2023-04-03T10:41:40.066572Z",
     "iopub.status.busy": "2023-04-03T10:41:40.066196Z",
     "iopub.status.idle": "2023-04-03T10:41:40.085126Z",
     "shell.execute_reply": "2023-04-03T10:41:40.084011Z",
     "shell.execute_reply.started": "2023-04-03T10:41:40.066540Z"
    }
   },
   "outputs": [],
   "source": [
    "df.info()"
   ]
  },
  {
   "cell_type": "code",
   "execution_count": null,
   "metadata": {
    "execution": {
     "iopub.execute_input": "2023-04-03T10:22:57.237702Z",
     "iopub.status.busy": "2023-04-03T10:22:57.235277Z",
     "iopub.status.idle": "2023-04-03T10:22:58.005972Z",
     "shell.execute_reply": "2023-04-03T10:22:58.005063Z",
     "shell.execute_reply.started": "2023-04-03T10:22:57.237659Z"
    }
   },
   "outputs": [],
   "source": [
    "# display random images\n",
    "\n",
    "import random\n",
    "\n",
    "fig, axs = plt.subplots(2, 4, sharey=True, constrained_layout=True, num=None, \n",
    "                        figsize=(10, 5), dpi=80, facecolor='gray', edgecolor='k')\n",
    "fig.suptitle(\"Sample Faces and Labels\")\n",
    "axs = axs.flatten()\n",
    "\n",
    "\n",
    "for i in range(8):\n",
    "    idx = random.randint(0, len(df)-1)  # randomly select an index\n",
    "    img_path = path + df['pth'][idx]\n",
    "    img = cv2.imread(img_path)  # read image\n",
    "    img = cv2.cvtColor(img, cv2.COLOR_BGR2RGB)  # convert to BGR to RGB\n",
    "    axs[i].imshow(img)\n",
    "    axs[i].set_title(df['label'][idx])\n",
    "    axs[i].axis('off')\n",
    "    "
   ]
  },
  {
   "cell_type": "code",
   "execution_count": null,
   "metadata": {
    "execution": {
     "iopub.execute_input": "2023-04-03T10:22:58.007297Z",
     "iopub.status.busy": "2023-04-03T10:22:58.006924Z",
     "iopub.status.idle": "2023-04-03T10:23:04.724126Z",
     "shell.execute_reply": "2023-04-03T10:23:04.723032Z",
     "shell.execute_reply.started": "2023-04-03T10:22:58.007260Z"
    }
   },
   "outputs": [],
   "source": [
    "# 1. define functions to pre-process and load images into arrays / label from folders\n",
    "\n",
    "\n",
    "import cv2\n",
    "import numpy as np\n",
    "from keras.utils import to_categorical\n",
    "import os\n",
    "\n",
    "INPUT_PATH = \"/kaggle/input/affectnet-training-data/\"\n",
    "EMOTIONS = [f.name for f in os.scandir(INPUT_PATH) if f.is_dir()]\n",
    "IMAGE_SIZE = (96, 96)\n",
    "\n",
    "print(EMOTIONS)\n",
    "\n",
    "def image_generator(input_path, emotions, image_size):\n",
    "    for index, emotion in enumerate(emotions):\n",
    "        for filename in os.listdir(os.path.join(input_path, emotion)):\n",
    "            img = cv2.imread(os.path.join(input_path, emotion, filename))\n",
    "            img = cv2.cvtColor(img, cv2.COLOR_BGR2RGB)  # Convert to RGB\n",
    "            #img = cv2.resize(img, image_size)\n",
    "            #img = img.astype('float32') / 255.0  # Normilize\n",
    "            yield img, index\n",
    "\n",
    "def load_images(input_path, emotions, image_size):\n",
    "    X, y = [], []\n",
    "    for img, label in image_generator(input_path, emotions, image_size):\n",
    "        X.append(img)\n",
    "        y.append(label)\n",
    "    X = np.array(X)\n",
    "    y = to_categorical(np.array(y))\n",
    "    return X, y"
   ]
  },
  {
   "cell_type": "code",
   "execution_count": null,
   "metadata": {
    "execution": {
     "iopub.execute_input": "2023-04-03T10:23:04.728564Z",
     "iopub.status.busy": "2023-04-03T10:23:04.727999Z",
     "iopub.status.idle": "2023-04-03T10:24:49.780278Z",
     "shell.execute_reply": "2023-04-03T10:24:49.779221Z",
     "shell.execute_reply.started": "2023-04-03T10:23:04.728534Z"
    }
   },
   "outputs": [],
   "source": [
    "# Load the images 1\n",
    "X, y = load_images(INPUT_PATH, EMOTIONS, IMAGE_SIZE)\n",
    "input_shape = X[0].shape\n",
    "#input_shape = (96,96,1) "
   ]
  },
  {
   "cell_type": "code",
   "execution_count": null,
   "metadata": {
    "execution": {
     "iopub.execute_input": "2023-04-03T10:24:49.782201Z",
     "iopub.status.busy": "2023-04-03T10:24:49.781736Z",
     "iopub.status.idle": "2023-04-03T10:24:49.858065Z",
     "shell.execute_reply": "2023-04-03T10:24:49.856960Z",
     "shell.execute_reply.started": "2023-04-03T10:24:49.782149Z"
    }
   },
   "outputs": [],
   "source": [
    "# choose a random image index\n",
    "idx = np.random.randint(len(X))\n",
    "\n",
    "# display the image and its corresponding label from arrays\n",
    "plt.imshow(X[idx])\n",
    "plt.title(EMOTIONS[np.argmax(y[idx])])\n",
    "plt.axis('off')  # remove the grid\n",
    "plt.show()\n"
   ]
  },
  {
   "cell_type": "code",
   "execution_count": null,
   "metadata": {
    "execution": {
     "iopub.execute_input": "2023-04-03T10:24:49.860240Z",
     "iopub.status.busy": "2023-04-03T10:24:49.859642Z",
     "iopub.status.idle": "2023-04-03T10:24:50.424162Z",
     "shell.execute_reply": "2023-04-03T10:24:50.423160Z",
     "shell.execute_reply.started": "2023-04-03T10:24:49.860203Z"
    }
   },
   "outputs": [],
   "source": [
    "# Train test split pre-processed data\n",
    "\n",
    "from sklearn.model_selection import StratifiedShuffleSplit, train_test_split\n",
    "\n",
    "X_train, X_test, y_train, y_test = train_test_split(X, y, test_size=0.2, random_state=123)"
   ]
  },
  {
   "cell_type": "code",
   "execution_count": null,
   "metadata": {
    "execution": {
     "iopub.execute_input": "2023-04-03T10:24:50.426226Z",
     "iopub.status.busy": "2023-04-03T10:24:50.425800Z",
     "iopub.status.idle": "2023-04-03T10:24:52.627377Z",
     "shell.execute_reply": "2023-04-03T10:24:52.626582Z",
     "shell.execute_reply.started": "2023-04-03T10:24:50.426173Z"
    }
   },
   "outputs": [],
   "source": [
    "# our updated model\n",
    "\n",
    "from keras.models import Sequential\n",
    "from keras.layers import Conv2D, Dropout, BatchNormalization, Flatten, Dense, MaxPool2D\n",
    "from keras.regularizers import l2\n",
    "from keras.preprocessing.image import ImageDataGenerator\n",
    "from keras.optimizers import Adam\n",
    "\n",
    "model_2 = Sequential()\n",
    "\n",
    "model_2.add(Conv2D(32, (3,3), activation=\"selu\", input_shape=input_shape))\n",
    "model_2.add(BatchNormalization())\n",
    "model_2.add(MaxPool2D(pool_size=(2,2)))\n",
    "model_2.add(Dropout(0.25))\n",
    "\n",
    "model_2.add(Conv2D(64, (3,3), activation=\"selu\"))\n",
    "model_2.add(BatchNormalization())\n",
    "model_2.add(MaxPool2D(pool_size=(2,2)))\n",
    "model_2.add(Dropout(0.25))\n",
    "\n",
    "model_2.add(Conv2D(128, (3,3), activation=\"selu\"))\n",
    "model_2.add(BatchNormalization())\n",
    "model_2.add(MaxPool2D(pool_size=(2,2)))\n",
    "model_2.add(Dropout(0.25))\n",
    "\n",
    "model_2.add(Flatten())\n",
    "model_2.add(Dense(256, activation='selu', kernel_regularizer=l2(0.01)))\n",
    "model_2.add(BatchNormalization())\n",
    "model_2.add(Dropout(0.5))\n",
    "model_2.add(Dense(8, activation='softmax'))\n",
    "\n",
    "model_2.compile(optimizer = Adam(learning_rate=0.001), loss='categorical_crossentropy', metrics=['accuracy'])\n",
    "\n",
    "model_2.summary()"
   ]
  },
  {
   "cell_type": "code",
   "execution_count": null,
   "metadata": {
    "execution": {
     "iopub.execute_input": "2023-04-03T10:24:52.628897Z",
     "iopub.status.busy": "2023-04-03T10:24:52.628441Z",
     "iopub.status.idle": "2023-04-03T10:28:17.327788Z",
     "shell.execute_reply": "2023-04-03T10:28:17.326435Z",
     "shell.execute_reply.started": "2023-04-03T10:24:52.628860Z"
    }
   },
   "outputs": [],
   "source": [
    "from tensorflow.keras.callbacks import EarlyStopping, ReduceLROnPlateau, ModelCheckpoint\n",
    "\n",
    "history = model_2.fit(X_train, y_train, batch_size=64,\n",
    "                    epochs=25,\n",
    "                    validation_data=(X_test, y_test),\n",
    "                    \n",
    "                    callbacks = [EarlyStopping(patience=10, monitor='val_loss', mode='min'), \n",
    "                                 ReduceLROnPlateau(patience=2, verbose=1),\n",
    "                                 ModelCheckpoint('best_model.h5', \n",
    "                                                 save_best_only=True, \n",
    "                                                 save_weights_only=True, \n",
    "                                                 monitor='val_accuracy', \n",
    "                                                 mode='max')],\n",
    "                    verbose=1)"
   ]
  },
  {
   "cell_type": "code",
   "execution_count": null,
   "metadata": {
    "execution": {
     "iopub.execute_input": "2023-04-03T10:28:17.330092Z",
     "iopub.status.busy": "2023-04-03T10:28:17.329701Z",
     "iopub.status.idle": "2023-04-03T10:28:17.607071Z",
     "shell.execute_reply": "2023-04-03T10:28:17.606110Z",
     "shell.execute_reply.started": "2023-04-03T10:28:17.330053Z"
    }
   },
   "outputs": [],
   "source": [
    "pd.DataFrame(history.history).plot();"
   ]
  },
  {
   "cell_type": "code",
   "execution_count": null,
   "metadata": {
    "execution": {
     "iopub.execute_input": "2023-04-03T10:28:17.612034Z",
     "iopub.status.busy": "2023-04-03T10:28:17.611091Z",
     "iopub.status.idle": "2023-04-03T10:28:19.059997Z",
     "shell.execute_reply": "2023-04-03T10:28:19.059129Z",
     "shell.execute_reply.started": "2023-04-03T10:28:17.611996Z"
    }
   },
   "outputs": [],
   "source": [
    "# calculates the false positive rate, true positive rate, and AUC score\n",
    "\n",
    "from sklearn.metrics import roc_curve, auc, roc_auc_score\n",
    "import matplotlib.pyplot as plt\n",
    "\n",
    "# Make predictions\n",
    "y_pred = model_2.predict(X_test)\n",
    "\n",
    "# Compute ROC curve and ROC AUC for each class\n",
    "fpr = dict()\n",
    "tpr = dict()\n",
    "roc_auc = dict()\n",
    "for i in range(8):\n",
    "    fpr[i], tpr[i], _ = roc_curve(y_test[:, i], y_pred[:, i])\n",
    "    roc_auc[i] = auc(fpr[i], tpr[i])\n",
    "\n",
    "# Compute micro-average ROC curve and ROC AUC score\n",
    "fpr[\"micro\"], tpr[\"micro\"], _ = roc_curve(y_test.ravel(), y_pred.ravel())\n",
    "roc_auc[\"micro\"] = roc_auc_score(y_test, y_pred, multi_class='ovr')\n",
    "\n",
    "# Plot the ROC curves for each class and the micro-average ROC curve\n",
    "plt.figure(figsize=(8, 6))\n",
    "lw = 2\n",
    "plt.plot(fpr[\"micro\"], tpr[\"micro\"], lw=lw, label='micro-average ROC curve (AUC = {0:0.2f})'\n",
    "                                                   ''.format(roc_auc[\"micro\"]))\n",
    "colors = ['cornflowerblue', 'darkorange', 'forestgreen', 'red', 'purple', 'gray', 'black', 'pink']\n",
    "for i, color in zip(range(8), colors):\n",
    "    plt.plot(fpr[i], tpr[i], color=color, lw=lw,\n",
    "             label='ROC curve of {0} (AUC = {1:0.2f})'.format(EMOTIONS[i], roc_auc[i]))\n",
    "    \n",
    "plt.plot([0, 1], [0, 1], color='gray', lw=lw, linestyle='--')\n",
    "plt.xlim([0.0, 1.0])\n",
    "plt.ylim([0.0, 1.05])\n",
    "plt.xlabel('False Positive Rate', fontsize=14)\n",
    "plt.ylabel('True Positive Rate', fontsize=14)\n",
    "plt.title('Receiver Operating Characteristic (ROC) Curve', fontsize=16)\n",
    "plt.legend(loc=\"lower right\", fontsize=12)\n",
    "plt.show()\n",
    "\n"
   ]
  },
  {
   "cell_type": "code",
   "execution_count": null,
   "metadata": {
    "execution": {
     "iopub.execute_input": "2023-04-03T10:28:19.062385Z",
     "iopub.status.busy": "2023-04-03T10:28:19.061376Z",
     "iopub.status.idle": "2023-04-03T10:28:20.044311Z",
     "shell.execute_reply": "2023-04-03T10:28:20.043254Z",
     "shell.execute_reply.started": "2023-04-03T10:28:19.062335Z"
    }
   },
   "outputs": [],
   "source": [
    "# Compute classification report\n",
    "\n",
    "from sklearn.metrics import classification_report\n",
    "\n",
    "# Convert one-hot encoded y_test back to integers\n",
    "y_test_int = np.argmax(y_test, axis=1)\n",
    "\n",
    "# Make predictions\n",
    "y_pred = model_2.predict(X_test)\n",
    "\n",
    "# Convert one-hot encoded y_pred back to integers\n",
    "y_pred_int = np.argmax(y_pred, axis=1)\n",
    "\n",
    "# Generate classification report\n",
    "print(classification_report(y_test_int, y_pred_int))"
   ]
  },
  {
   "cell_type": "code",
   "execution_count": null,
   "metadata": {
    "execution": {
     "iopub.execute_input": "2023-04-03T10:28:20.046297Z",
     "iopub.status.busy": "2023-04-03T10:28:20.045654Z",
     "iopub.status.idle": "2023-04-03T10:28:20.327770Z",
     "shell.execute_reply": "2023-04-03T10:28:20.326982Z",
     "shell.execute_reply.started": "2023-04-03T10:28:20.046260Z"
    }
   },
   "outputs": [],
   "source": [
    "# our new model_3\n",
    "\n",
    "from keras.models import Sequential\n",
    "from keras.layers import Conv2D, Dropout, BatchNormalization, Flatten, Dense, MaxPool2D\n",
    "from keras.regularizers import l2\n",
    "from keras.preprocessing.image import ImageDataGenerator\n",
    "from keras.optimizers import Adam\n",
    "\n",
    "model_3 = Sequential()\n",
    "\n",
    "model_3.add(Conv2D(32, (3,3), activation=\"selu\", input_shape=input_shape))\n",
    "model_3.add(BatchNormalization())\n",
    "model_3.add(MaxPool2D(pool_size=(2,2)))\n",
    "model_3.add(Dropout(0.25))\n",
    "\n",
    "model_3.add(Conv2D(64, (3,3), activation=\"selu\"))\n",
    "model_3.add(BatchNormalization())\n",
    "model_3.add(Conv2D(64, (3,3), activation=\"selu\"))\n",
    "model_3.add(BatchNormalization())\n",
    "model_3.add(MaxPool2D(pool_size=(2,2)))\n",
    "model_3.add(Dropout(0.25))\n",
    "\n",
    "model_3.add(Conv2D(128, (3,3), activation=\"selu\"))\n",
    "model_3.add(BatchNormalization())\n",
    "model_3.add(Conv2D(128, (3,3), activation=\"selu\"))\n",
    "model_3.add(BatchNormalization())\n",
    "model_3.add(MaxPool2D(pool_size=(2,2)))\n",
    "model_3.add(Dropout(0.25))\n",
    "\n",
    "model_3.add(Conv2D(256, (3,3), activation=\"selu\"))\n",
    "model_3.add(BatchNormalization())\n",
    "model_3.add(Conv2D(256, (3,3), activation=\"selu\"))\n",
    "model_3.add(BatchNormalization())\n",
    "model_3.add(MaxPool2D(pool_size=(2,2)))\n",
    "model_3.add(Dropout(0.25))\n",
    "\n",
    "model_3.add(Flatten())\n",
    "model_3.add(Dense(128, activation='selu', kernel_regularizer=l2(0.01)))\n",
    "model_3.add(BatchNormalization())\n",
    "model_3.add(Dropout(0.5))\n",
    "model_3.add(Dense(8, activation='softmax'))\n",
    "\n",
    "model_3.compile(optimizer = Adam(learning_rate=0.001), loss='categorical_crossentropy', metrics=['accuracy'])\n",
    "\n",
    "model_3.summary()\n"
   ]
  },
  {
   "cell_type": "code",
   "execution_count": null,
   "metadata": {
    "execution": {
     "iopub.execute_input": "2023-04-03T10:28:20.329372Z",
     "iopub.status.busy": "2023-04-03T10:28:20.328836Z",
     "iopub.status.idle": "2023-04-03T10:31:58.453333Z",
     "shell.execute_reply": "2023-04-03T10:31:58.452421Z",
     "shell.execute_reply.started": "2023-04-03T10:28:20.329342Z"
    }
   },
   "outputs": [],
   "source": [
    "from tensorflow.keras.callbacks import EarlyStopping, ReduceLROnPlateau, ModelCheckpoint\n",
    "\n",
    "history = model_3.fit(X_train, y_train, batch_size=64,\n",
    "                    epochs=25,\n",
    "                    validation_data=(X_test, y_test),\n",
    "                    \n",
    "                    callbacks = [EarlyStopping(patience=10, monitor='val_loss', mode='min'), \n",
    "                                 ReduceLROnPlateau(patience=2, verbose=1),\n",
    "                                 ModelCheckpoint('best_model.h5', \n",
    "                                                 save_best_only=True, \n",
    "                                                 save_weights_only=True, \n",
    "                                                 monitor='val_accuracy', \n",
    "                                                 mode='max')],\n",
    "                    verbose=1)"
   ]
  },
  {
   "cell_type": "code",
   "execution_count": null,
   "metadata": {
    "execution": {
     "iopub.execute_input": "2023-04-03T10:31:58.455683Z",
     "iopub.status.busy": "2023-04-03T10:31:58.455301Z",
     "iopub.status.idle": "2023-04-03T10:31:58.711094Z",
     "shell.execute_reply": "2023-04-03T10:31:58.710091Z",
     "shell.execute_reply.started": "2023-04-03T10:31:58.455646Z"
    }
   },
   "outputs": [],
   "source": [
    "pd.DataFrame(history.history).plot();"
   ]
  },
  {
   "cell_type": "code",
   "execution_count": null,
   "metadata": {
    "execution": {
     "iopub.execute_input": "2023-04-03T10:31:58.713010Z",
     "iopub.status.busy": "2023-04-03T10:31:58.712664Z",
     "iopub.status.idle": "2023-04-03T10:32:00.783117Z",
     "shell.execute_reply": "2023-04-03T10:32:00.782120Z",
     "shell.execute_reply.started": "2023-04-03T10:31:58.712974Z"
    }
   },
   "outputs": [],
   "source": [
    "# calculates the false positive rate, true positive rate, and AUC score\n",
    "\n",
    "from sklearn.metrics import roc_curve, auc, roc_auc_score\n",
    "import matplotlib.pyplot as plt\n",
    "\n",
    "# Make predictions\n",
    "y_pred = model_3.predict(X_test)\n",
    "\n",
    "# Compute ROC curve and ROC AUC for each class\n",
    "fpr = dict()\n",
    "tpr = dict()\n",
    "roc_auc = dict()\n",
    "for i in range(8):\n",
    "    fpr[i], tpr[i], _ = roc_curve(y_test[:, i], y_pred[:, i])\n",
    "    roc_auc[i] = auc(fpr[i], tpr[i])\n",
    "\n",
    "# Compute micro-average ROC curve and ROC AUC score\n",
    "fpr[\"micro\"], tpr[\"micro\"], _ = roc_curve(y_test.ravel(), y_pred.ravel())\n",
    "roc_auc[\"micro\"] = roc_auc_score(y_test, y_pred, multi_class='ovr')\n",
    "\n",
    "# Plot the ROC curves for each class and the micro-average ROC curve\n",
    "plt.figure(figsize=(8, 6))\n",
    "lw = 2\n",
    "plt.plot(fpr[\"micro\"], tpr[\"micro\"], lw=lw, label='micro-average ROC curve (AUC = {0:0.2f})'\n",
    "                                                   ''.format(roc_auc[\"micro\"]))\n",
    "colors = ['cornflowerblue', 'darkorange', 'forestgreen', 'red', 'purple', 'gray', 'black', 'pink']\n",
    "for i, color in zip(range(8), colors):\n",
    "    plt.plot(fpr[i], tpr[i], color=color, lw=lw,\n",
    "             label='ROC curve of {0} (AUC = {1:0.2f})'.format(EMOTIONS[i], roc_auc[i]))\n",
    "    \n",
    "plt.plot([0, 1], [0, 1], color='gray', lw=lw, linestyle='--')\n",
    "plt.xlim([0.0, 1.0])\n",
    "plt.ylim([0.0, 1.05])\n",
    "plt.xlabel('False Positive Rate', fontsize=14)\n",
    "plt.ylabel('True Positive Rate', fontsize=14)\n",
    "plt.title('Receiver Operating Characteristic (ROC) Curve', fontsize=16)\n",
    "plt.legend(loc=\"lower right\", fontsize=12)\n",
    "plt.show()\n"
   ]
  },
  {
   "cell_type": "code",
   "execution_count": null,
   "metadata": {
    "execution": {
     "iopub.execute_input": "2023-04-03T10:32:00.785226Z",
     "iopub.status.busy": "2023-04-03T10:32:00.784631Z",
     "iopub.status.idle": "2023-04-03T10:32:01.968359Z",
     "shell.execute_reply": "2023-04-03T10:32:01.967247Z",
     "shell.execute_reply.started": "2023-04-03T10:32:00.785191Z"
    }
   },
   "outputs": [],
   "source": [
    "# Compute classification report\n",
    "\n",
    "from sklearn.metrics import classification_report\n",
    "\n",
    "# Convert one-hot encoded y_test back to integers\n",
    "y_test_int = np.argmax(y_test, axis=1)\n",
    "\n",
    "# Make predictions\n",
    "y_pred = model_3.predict(X_test)\n",
    "\n",
    "# Convert one-hot encoded y_pred back to integers\n",
    "y_pred_int = np.argmax(y_pred, axis=1)\n",
    "\n",
    "# Generate classification report\n",
    "print(classification_report(y_test_int, y_pred_int))"
   ]
  },
  {
   "cell_type": "code",
   "execution_count": null,
   "metadata": {
    "execution": {
     "iopub.execute_input": "2023-04-03T10:32:01.970303Z",
     "iopub.status.busy": "2023-04-03T10:32:01.969914Z",
     "iopub.status.idle": "2023-04-03T10:32:02.267891Z",
     "shell.execute_reply": "2023-04-03T10:32:02.267120Z",
     "shell.execute_reply.started": "2023-04-03T10:32:01.970266Z"
    }
   },
   "outputs": [],
   "source": [
    "from keras.models import Sequential\n",
    "from keras.layers import Conv2D, Dropout, BatchNormalization, Flatten, Dense, MaxPool2D\n",
    "from keras.regularizers import l2\n",
    "from keras.preprocessing.image import ImageDataGenerator\n",
    "from keras.optimizers import Adam\n",
    "\n",
    "model_4 = Sequential()\n",
    "\n",
    "model_4.add(Conv2D(32, (3,3), activation=\"selu\", input_shape=input_shape))\n",
    "model_4.add(BatchNormalization())\n",
    "model_4.add(MaxPool2D(pool_size=(2,2)))\n",
    "model_4.add(Dropout(0.3))\n",
    "\n",
    "model_4.add(Conv2D(64, (3,3), activation=\"selu\"))\n",
    "model_4.add(BatchNormalization())\n",
    "model_4.add(Conv2D(64, (3,3), activation=\"selu\"))\n",
    "model_4.add(BatchNormalization())\n",
    "model_4.add(MaxPool2D(pool_size=(2,2)))\n",
    "model_4.add(Dropout(0.4))\n",
    "\n",
    "model_4.add(Conv2D(128, (3,3), activation=\"selu\"))\n",
    "model_4.add(BatchNormalization())\n",
    "model_4.add(Conv2D(128, (3,3), activation=\"selu\"))\n",
    "model_4.add(BatchNormalization())\n",
    "model_4.add(MaxPool2D(pool_size=(2,2)))\n",
    "model_4.add(Dropout(0.5))\n",
    "\n",
    "model_4.add(Conv2D(256, (3,3), activation=\"selu\"))\n",
    "model_4.add(BatchNormalization())\n",
    "model_4.add(Conv2D(256, (3,3), activation=\"selu\"))\n",
    "model_4.add(BatchNormalization())\n",
    "model_4.add(MaxPool2D(pool_size=(2,2)))\n",
    "model_4.add(Dropout(0.6))\n",
    "\n",
    "model_4.add(Flatten())\n",
    "model_4.add(Dense(128, activation='selu', kernel_regularizer=l2(0.01)))\n",
    "model_4.add(BatchNormalization())\n",
    "model_4.add(Dropout(0.5))\n",
    "model_4.add(Dense(8, activation='softmax'))\n",
    "\n",
    "model_4.compile(optimizer=Adam(learning_rate=0.001), loss='categorical_crossentropy', metrics=['accuracy'])\n",
    "\n",
    "model_4.summary()\n"
   ]
  },
  {
   "cell_type": "code",
   "execution_count": null,
   "metadata": {
    "execution": {
     "iopub.execute_input": "2023-04-03T10:32:02.270261Z",
     "iopub.status.busy": "2023-04-03T10:32:02.269488Z",
     "iopub.status.idle": "2023-04-03T10:36:32.330426Z",
     "shell.execute_reply": "2023-04-03T10:36:32.329478Z",
     "shell.execute_reply.started": "2023-04-03T10:32:02.270215Z"
    }
   },
   "outputs": [],
   "source": [
    "from tensorflow.keras.callbacks import EarlyStopping, ReduceLROnPlateau, ModelCheckpoint\n",
    "\n",
    "history = model_4.fit(X_train, y_train, batch_size=128,\n",
    "                    epochs=30,\n",
    "                    validation_data=(X_test, y_test),\n",
    "                    \n",
    "                    callbacks = [EarlyStopping(patience=10, monitor='val_loss', mode='min'), \n",
    "                                 ReduceLROnPlateau(monitor='val_loss', \n",
    "                                                   factor=0.5, \n",
    "                                                   patience=2, \n",
    "                                                   verbose=1),\n",
    "                                 ModelCheckpoint('best_model.h5', \n",
    "                                                 save_best_only=True, \n",
    "                                                 save_weights_only=True, \n",
    "                                                 monitor='val_accuracy', \n",
    "                                                 mode='max')],\n",
    "                    verbose=1)"
   ]
  },
  {
   "cell_type": "code",
   "execution_count": null,
   "metadata": {
    "execution": {
     "iopub.execute_input": "2023-04-03T10:36:32.334693Z",
     "iopub.status.busy": "2023-04-03T10:36:32.334136Z",
     "iopub.status.idle": "2023-04-03T10:36:32.602002Z",
     "shell.execute_reply": "2023-04-03T10:36:32.601078Z",
     "shell.execute_reply.started": "2023-04-03T10:36:32.334663Z"
    }
   },
   "outputs": [],
   "source": [
    "pd.DataFrame(history.history).plot();"
   ]
  },
  {
   "cell_type": "code",
   "execution_count": null,
   "metadata": {
    "execution": {
     "iopub.execute_input": "2023-04-03T10:36:32.604439Z",
     "iopub.status.busy": "2023-04-03T10:36:32.603434Z",
     "iopub.status.idle": "2023-04-03T10:36:34.674983Z",
     "shell.execute_reply": "2023-04-03T10:36:34.674121Z",
     "shell.execute_reply.started": "2023-04-03T10:36:32.604401Z"
    }
   },
   "outputs": [],
   "source": [
    "# calculates the false positive rate, true positive rate, and AUC score\n",
    "\n",
    "from sklearn.metrics import roc_curve, auc, roc_auc_score\n",
    "import matplotlib.pyplot as plt\n",
    "\n",
    "# Make predictions\n",
    "y_pred = model_4.predict(X_test)\n",
    "\n",
    "# Compute ROC curve and ROC AUC for each class\n",
    "fpr = dict()\n",
    "tpr = dict()\n",
    "roc_auc = dict()\n",
    "for i in range(8):\n",
    "    fpr[i], tpr[i], _ = roc_curve(y_test[:, i], y_pred[:, i])\n",
    "    roc_auc[i] = auc(fpr[i], tpr[i])\n",
    "\n",
    "# Compute micro-average ROC curve and ROC AUC score\n",
    "fpr[\"micro\"], tpr[\"micro\"], _ = roc_curve(y_test.ravel(), y_pred.ravel())\n",
    "roc_auc[\"micro\"] = roc_auc_score(y_test, y_pred, multi_class='ovr')\n",
    "\n",
    "# Plot the ROC curves for each class and the micro-average ROC curve\n",
    "plt.figure(figsize=(8, 6))\n",
    "lw = 2\n",
    "plt.plot(fpr[\"micro\"], tpr[\"micro\"], lw=lw, label='micro-average ROC curve (AUC = {0:0.2f})'\n",
    "                                                   ''.format(roc_auc[\"micro\"]))\n",
    "colors = ['cornflowerblue', 'darkorange', 'forestgreen', 'red', 'purple', 'gray', 'black', 'pink']\n",
    "for i, color in zip(range(8), colors):\n",
    "    plt.plot(fpr[i], tpr[i], color=color, lw=lw,\n",
    "             label='ROC curve of {0} (AUC = {1:0.2f})'.format(EMOTIONS[i], roc_auc[i]))\n",
    "    \n",
    "plt.plot([0, 1], [0, 1], color='gray', lw=lw, linestyle='--')\n",
    "plt.xlim([0.0, 1.0])\n",
    "plt.ylim([0.0, 1.05])\n",
    "plt.xlabel('False Positive Rate', fontsize=14)\n",
    "plt.ylabel('True Positive Rate', fontsize=14)\n",
    "plt.title('Receiver Operating Characteristic (ROC) Curve', fontsize=16)\n",
    "plt.legend(loc=\"lower right\", fontsize=12)\n",
    "plt.show()\n"
   ]
  },
  {
   "cell_type": "code",
   "execution_count": null,
   "metadata": {
    "execution": {
     "iopub.execute_input": "2023-04-03T10:36:34.677295Z",
     "iopub.status.busy": "2023-04-03T10:36:34.676335Z",
     "iopub.status.idle": "2023-04-03T10:36:35.867243Z",
     "shell.execute_reply": "2023-04-03T10:36:35.866070Z",
     "shell.execute_reply.started": "2023-04-03T10:36:34.677256Z"
    }
   },
   "outputs": [],
   "source": [
    "# Compute classification report\n",
    "\n",
    "from sklearn.metrics import classification_report\n",
    "\n",
    "# Convert one-hot encoded y_test back to integers\n",
    "y_test_int = np.argmax(y_test, axis=1)\n",
    "\n",
    "# Make predictions\n",
    "y_pred = model_4.predict(X_test)\n",
    "\n",
    "# Convert one-hot encoded y_pred back to integers\n",
    "y_pred_int = np.argmax(y_pred, axis=1)\n",
    "\n",
    "# Generate classification report\n",
    "print(classification_report(y_test_int, y_pred_int))"
   ]
  }
 ],
 "metadata": {
  "kernelspec": {
   "display_name": "Python 3 (ipykernel)",
   "language": "python",
   "name": "python3"
  },
  "language_info": {
   "codemirror_mode": {
    "name": "ipython",
    "version": 3
   },
   "file_extension": ".py",
   "mimetype": "text/x-python",
   "name": "python",
   "nbconvert_exporter": "python",
   "pygments_lexer": "ipython3",
   "version": "3.8.16"
  },
  "widgets": {
   "application/vnd.jupyter.widget-state+json": {
    "state": {},
    "version_major": 2,
    "version_minor": 0
   }
  }
 },
 "nbformat": 4,
 "nbformat_minor": 4
}
